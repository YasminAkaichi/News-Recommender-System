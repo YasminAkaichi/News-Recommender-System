{
 "cells": [
  {
   "cell_type": "code",
   "execution_count": 1,
   "metadata": {},
   "outputs": [],
   "source": [
    "from elasticsearch import Elasticsearch,helpers \n",
    "import csv "
   ]
  },
  {
   "cell_type": "code",
   "execution_count": 18,
   "metadata": {},
   "outputs": [],
   "source": [
    "with open('C:/Users/yasmi/data/society.csv',errors='ignore') as f: \n",
    "    reader=csv.DictReader(f)\n",
    "    helpers.bulk(es,reader,index='society', doc_type='news')"
   ]
  },
  {
   "cell_type": "code",
   "execution_count": 8,
   "metadata": {},
   "outputs": [],
   "source": [
    "with open('C:/Users/yasmi/data/sci.csv') as f: \n",
    "    reader=csv.DictReader(f)\n",
    "    helpers.bulk(es,reader,index='science', doc_type='news')"
   ]
  },
  {
   "cell_type": "code",
   "execution_count": 19,
   "metadata": {},
   "outputs": [],
   "source": [
    "with open('C:/Users/yasmi/data/politic.csv',errors='ignore') as f: \n",
    "    reader=csv.DictReader(f)\n",
    "    helpers.bulk(es,reader,index='politic', doc_type='news')"
   ]
  },
  {
   "cell_type": "code",
   "execution_count": 20,
   "metadata": {},
   "outputs": [],
   "source": [
    "with open('C:/Users/yasmi/data/media.csv',errors='ignore') as f: \n",
    "    reader=csv.DictReader(f)\n",
    "    helpers.bulk(es,reader,index='media', doc_type='news')\n",
    "    "
   ]
  },
  {
   "cell_type": "code",
   "execution_count": 21,
   "metadata": {},
   "outputs": [],
   "source": [
    "with open('C:/Users/yasmi/data/health.csv',errors='ignore') as f: \n",
    "    reader=csv.DictReader(f)\n",
    "    helpers.bulk(es,reader,index='health', doc_type='news')"
   ]
  },
  {
   "cell_type": "code",
   "execution_count": 34,
   "metadata": {},
   "outputs": [],
   "source": [
    "with open('C:/Users/yasmi/data/enter.csv',errors='replace') as f: \n",
    "    reader=csv.DictReader(f)\n",
    "    helpers.bulk(es,reader,index='entertainment', doc_type='news')"
   ]
  },
  {
   "cell_type": "code",
   "execution_count": 24,
   "metadata": {},
   "outputs": [],
   "source": [
    "with open('C:/Users/yasmi/data/economy.csv',errors='ignore') as f: \n",
    "    reader=csv.DictReader(f)\n",
    "    helpers.bulk(es,reader,index='economy', doc_type='news')"
   ]
  },
  {
   "cell_type": "code",
   "execution_count": 25,
   "metadata": {},
   "outputs": [],
   "source": [
    "with open('C:/Users/yasmi/data/sports.csv',errors='ignore') as f: \n",
    "    reader=csv.DictReader(f)\n",
    "    helpers.bulk(es,reader,index='sports', doc_type='news')"
   ]
  },
  {
   "cell_type": "code",
   "execution_count": 35,
   "metadata": {},
   "outputs": [],
   "source": [
    "with open('C:/Users/yasmi/data/style.csv',errors='ignore') as f: \n",
    "    reader=csv.DictReader(f)\n",
    "    helpers.bulk(es,reader,index='style', doc_type='news')"
   ]
  },
  {
   "cell_type": "code",
   "execution_count": 33,
   "metadata": {},
   "outputs": [],
   "source": [
    "with open('C:/Users/yasmi/data/world.csv',errors='ignore') as f: \n",
    "    reader=csv.DictReader(f)\n",
    "    helpers.bulk(es,reader,index='world', doc_type='news')"
   ]
  },
  {
   "cell_type": "code",
   "execution_count": 17,
   "metadata": {},
   "outputs": [],
   "source": [
    "es= Elasticsearch()\n",
    "with open('C:/Users/yasmi/data/arts.csv') as f: \n",
    "    reader=csv.DictReader(f)\n",
    "    helpers.bulk(es,reader,index='arts', doc_type='news')\n",
    "with open('C:/Users/yasmi/data/busi.csv') as f: \n",
    "    reader=csv.DictReader(f)\n",
    "    helpers.bulk(es,reader,index='business', doc_type='news')\n",
    "\n",
    "\n"
   ]
  },
  {
   "cell_type": "code",
   "execution_count": null,
   "metadata": {},
   "outputs": [],
   "source": []
  }
 ],
 "metadata": {
  "kernelspec": {
   "display_name": "Python 3",
   "language": "python",
   "name": "python3"
  },
  "language_info": {
   "codemirror_mode": {
    "name": "ipython",
    "version": 3
   },
   "file_extension": ".py",
   "mimetype": "text/x-python",
   "name": "python",
   "nbconvert_exporter": "python",
   "pygments_lexer": "ipython3",
   "version": "3.7.3"
  }
 },
 "nbformat": 4,
 "nbformat_minor": 2
}
